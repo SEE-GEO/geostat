{
 "cells": [
  {
   "cell_type": "markdown",
   "id": "maritime-somalia",
   "metadata": {},
   "source": [
    "# Getting started\n",
    "\n",
    "## Introduction\n",
    "\n",
    "### Aims\n",
    "\n",
    "Develop code with a focus on **reusability** and **reproducability**.\n",
    "\n",
    "Why?\n",
    "- Reused code is less likely to be incorrect\n",
    "- If somebody can reuse your code that's the best\n",
    "  contribution you can make.\n",
    "- Coding skills are universally valuable\n",
    "\n",
    "### Software stack\n",
    "\n",
    "- git for version control:\n",
    "    - Central repository: https://github.com/see-mof/geostat\n",
    "    - Send me your accounts I will give you write access.\n",
    "- conda for package management\n",
    "    - Scientific software can be messy to install (dependency hell)\n",
    "    - Conda helps alleviates this and helps to keep your system clean\n",
    "- Python for scientific code\n",
    "    - Jupyter notebooks to present results\n",
    "    - Code that is used more than once should go in a package.\n",
    "    \n",
    "\n"
   ]
  },
  {
   "cell_type": "markdown",
   "id": "elder-boxing",
   "metadata": {},
   "source": [
    "## Cloning the repository\n",
    "\n",
    "- To clone the repository:\n",
    "    ````\n",
    "    $ git clone git@github.com:see-mof/geostat.git\n",
    "    ````\n",
    "- Suggestion: start working each in your own folders ``gpm`` and ``dardar``"
   ]
  },
  {
   "cell_type": "markdown",
   "id": "hydraulic-sacramento",
   "metadata": {},
   "source": [
    "## Setting up conda\n",
    "\n"
   ]
  },
  {
   "cell_type": "markdown",
   "id": "interpreted-airplane",
   "metadata": {},
   "source": [
    "### Installing conda\n",
    "- If you don't have conda go to the [conda docs](https://docs.conda.io/projects/conda/en/latest/user-guide/install/index.htm) and follow the installation instructions.\n",
    "    \n",
    "### Conda environments\n",
    "\n",
    "  - Conda environments are a way to separate software dependencies\n",
    "    for different projects.\n",
    "  - We will use a conda environment to manage the software dependencies \n",
    "    that we need.\n",
    "  - Conda environments can be exported to `.yml` file and\n"
   ]
  },
  {
   "cell_type": "markdown",
   "id": "conscious-palace",
   "metadata": {},
   "source": [
    "### Conda environments\n",
    "\n",
    "- The repository contains an environment file ``geostat.yml`` located in ``conda/geostat.yml``.\n",
    "- Create new environment ``geostat`` with these packages:\n",
    "  ````\n",
    "  $ conda env create -n geostat -f conda/geostat.yml\n",
    "  ````\n",
    "    - This will take about ``2GB`` of space.\n",
    "- To activate the environment:\n",
    "  ````\n",
    "  $ conda activate geostat\n",
    "  ````\n",
    "  - **Note**: This need to be redone every time you start a new terminal\n",
    "  "
   ]
  },
  {
   "cell_type": "markdown",
   "id": "helpful-seventh",
   "metadata": {},
   "source": [
    "### Recap\n",
    "- You should now have all software installed on your computer to get started\n",
    "- To run this notebook, activate the ``geostat`` conda environment and start\n",
    "  a jupyter notebook:\n",
    "      \n",
    "````\n",
    "    $ conda activate\n",
    "    $ jupyter notebook\n",
    "````"
   ]
  },
  {
   "cell_type": "markdown",
   "id": "municipal-antenna",
   "metadata": {},
   "source": [
    "## Accessing satellite data\n",
    "- GOES data is freely available\n",
    "- GPM: Need account on [https://disc.gsfc.nasa.gov/](https://disc.gsfc.nasa.gov/)\n",
    "- CloudSat/DARDAR: Need account on [https://www.icare.univ-lille.fr/](https://www.icare.univ-lille.fr/)"
   ]
  },
  {
   "cell_type": "markdown",
   "id": "alleged-distributor",
   "metadata": {},
   "source": [
    "## Finding data\n",
    "- Use [NASA earthdata search](https://search.earthdata.nasa.gov/projects?p=!C1383813815-GES_DISC&pg[1][m]=download&q=gprof%20gmi&sb[0]=-71.15625%2C-26.01994%2C-33.60938%2C1.60844&m=-5.697616105023798!-89.7890625!3!1!0!0%2C2&tl=1595484979!4!!) to find GPM overpasses over Brazil\n",
    "    - Will produce list of files to download, probably good to start with time range of 1 year.\n",
    "- CloudSat data is available from ``Dendrite``"
   ]
  },
  {
   "cell_type": "markdown",
   "id": "cooked-bathroom",
   "metadata": {},
   "source": [
    "## Reading and processing data\n",
    "- Downloading and processing satellite data is unfortunately quite messy\n",
    "- Package we will use:\n",
    "  - **pansat**: Download and open data, Developed by PhDs at out department\n",
    "  - **satpy**: Open and process data\n",
    "  - **xarray**: Array package built on **numpy** which simplifies handling of geophysical data."
   ]
  },
  {
   "cell_type": "markdown",
   "id": "knowing-bacon",
   "metadata": {},
   "source": [
    "### Installing **pansat**\n",
    "\n",
    "- Make sure geostat conda environment is activated\n",
    "\n",
    "````\n",
    "git clone https://github.com/see-mof/pansat\n",
    "pip install -e .\n",
    "````\n",
    "\n",
    "- Setting up pansat:\n",
    " - Pansat manages your download accounts for you (They are stored encrypted in your HOME folder)\n",
    " - For NASA GES DISC:\n",
    "  ````\n",
    "  $ pansat add \"GES DISC\" <username>\n",
    "  ````\n",
    " - For ICARE:\n",
    "  ````\n",
    "  $ pansat add \"ICARE\" <username>\n",
    "  ````\n"
   ]
  },
  {
   "cell_type": "code",
   "execution_count": null,
   "id": "regulation-reproduction",
   "metadata": {},
   "outputs": [],
   "source": []
  }
 ],
 "metadata": {
  "celltoolbar": "Slideshow",
  "kernelspec": {
   "display_name": "Python 3",
   "language": "python",
   "name": "python3"
  },
  "language_info": {
   "codemirror_mode": {
    "name": "ipython",
    "version": 3
   },
   "file_extension": ".py",
   "mimetype": "text/x-python",
   "name": "python",
   "nbconvert_exporter": "python",
   "pygments_lexer": "ipython3",
   "version": "3.9.1"
  }
 },
 "nbformat": 4,
 "nbformat_minor": 5
}
