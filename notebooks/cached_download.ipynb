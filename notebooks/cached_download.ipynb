{
 "cells": [
  {
   "cell_type": "markdown",
   "metadata": {},
   "source": [
    "# Cached download with pansat\n",
    "\n",
    "This notebook provides an example of how to realize a cached download system for GOES satellite observations using pansat."
   ]
  },
  {
   "cell_type": "code",
   "execution_count": 1,
   "metadata": {},
   "outputs": [],
   "source": [
    "%load_ext autoreload\n",
    "%autoreload 2\n",
    "\n",
    "from pathlib import Path\n",
    "from pansat.download.providers.goes_aws import GOESAWSProvider\n",
    "from pansat.products.satellite.goes import goes_16_l1b_radiances_c01_conus, goes_16_l1b_radiances_c02_conus\n",
    "\n",
    "\n",
    "PRODUCTS = [goes_16_l1b_radiances_c01_conus,\n",
    "            goes_16_l1b_radiances_c02_conus]\n",
    "\n",
    "def download_cached(start_time,\n",
    "                    end_time,\n",
    "                    no_cache=False):\n",
    "    \"\"\"\n",
    "    Download all files from the GOES satellite products in PRODUCTS in a given\n",
    "    time range but avoid redownloading files that are already present.\n",
    "    \n",
    "    Args:\n",
    "        start_time: datetime object specifying the start of the time range\n",
    "            for which to download files.\n",
    "        end_time: datetime object specifying the end of the time range.\n",
    "        no_cache: If this is set to True, it forces a re-download of files even\n",
    "             if they are already present.\n",
    "        \n",
    "    Returns:\n",
    "        List of pathlib.Path object pointing to the available data files\n",
    "        in the request time range.\n",
    "    \"\"\"\n",
    "    global CACHE\n",
    "    \n",
    "    files = []\n",
    "    for p in PRODUCTS:\n",
    "        \n",
    "        dest = Path(p.default_destination)\n",
    "        dest.mkdir(parents=True, exist_ok=True)\n",
    "        \n",
    "        provider = GOESAWSProvider(p)\n",
    "        filenames = provider.get_files_in_range(start_time, end_time)\n",
    "        for f in filenames:\n",
    "            print(f)\n",
    "            path = dest / f\n",
    "            if not path.exists():\n",
    "                print(\"Downloading\")\n",
    "                data = provider.download_file(f, path)\n",
    "            files.append(path)\n",
    "    return files\n",
    "    "
   ]
  },
  {
   "cell_type": "markdown",
   "metadata": {},
   "source": [
    "# Example\n",
    "\n",
    "The example below shows the benefits of using a cache by two files for an identical time\n",
    "range and compares the time it takes in both cases."
   ]
  },
  {
   "cell_type": "code",
   "execution_count": 2,
   "metadata": {},
   "outputs": [],
   "source": [
    "from datetime import datetime\n",
    "t_0 = datetime(2021, 2, 11, 10, 0)    \n",
    "t_1 = datetime(2021, 2, 11, 10, 5)    "
   ]
  },
  {
   "cell_type": "code",
   "execution_count": 3,
   "metadata": {},
   "outputs": [
    {
     "name": "stdout",
     "output_type": "stream",
     "text": [
      "CPU times: user 1.24 s, sys: 30.5 ms, total: 1.27 s\n",
      "Wall time: 3.62 s\n"
     ]
    }
   ],
   "source": [
    "%time files = download_cached(t_0, t_1)"
   ]
  },
  {
   "cell_type": "code",
   "execution_count": 4,
   "metadata": {},
   "outputs": [
    {
     "name": "stdout",
     "output_type": "stream",
     "text": [
      "CPU times: user 55.4 ms, sys: 137 µs, total: 55.5 ms\n",
      "Wall time: 55.2 ms\n"
     ]
    }
   ],
   "source": [
    "%time files = download_cached(t_0, t_1)"
   ]
  }
 ],
 "metadata": {
  "kernelspec": {
   "display_name": "Python 3",
   "language": "python",
   "name": "python3"
  },
  "language_info": {
   "codemirror_mode": {
    "name": "ipython",
    "version": 3
   },
   "file_extension": ".py",
   "mimetype": "text/x-python",
   "name": "python",
   "nbconvert_exporter": "python",
   "pygments_lexer": "ipython3",
   "version": "3.8.5"
  }
 },
 "nbformat": 4,
 "nbformat_minor": 4
}
